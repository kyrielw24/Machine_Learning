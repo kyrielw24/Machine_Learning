{
 "cells": [
  {
   "cell_type": "markdown",
   "metadata": {},
   "source": [
    "# 机器学习实验四：贝叶斯分类估计评估模型\n",
    "- **姓名：刘伟**\n",
    "- **学号：2013029**\n",
    "- **专业：物联网工程**"
   ]
  },
  {
   "cell_type": "markdown",
   "metadata": {},
   "source": [
    "## 基本要求：\n",
    "- 采用分层采样的方式将数据集划分为训练集和测试集\n",
    "- 给定编写一个朴素贝叶斯分类器，对测试集进行预测，计算分类准确率"
   ]
  },
  {
   "cell_type": "markdown",
   "metadata": {},
   "source": [
    "### 加载数据"
   ]
  },
  {
   "cell_type": "code",
   "execution_count": 1,
   "metadata": {},
   "outputs": [],
   "source": [
    "import math\n",
    "import numpy as np  \n",
    "import pandas as pd\n",
    "\n",
    "f = open('D:\\\\NKU\\\\Semester_3\\\\机器学习\\\\wine.data','r')\n",
    "types = [[],[],[]]                      #按类分的所有数据\n",
    "test_data = [[],[],[]]\n",
    "train_data = [[],[],[]]\n",
    "data_num = 0                            #数据总数\n",
    "test_len = []                           #测试集里每一类的个数\n",
    "means = [[],[],[]]                      #每一类的均值\n",
    "stds = [[],[],[]]                        #每一类的标准差\n",
    "P = []\n",
    "myline = '1'\n",
    "while myline:\n",
    "    myline = f.readline().split(',')\n",
    "    if len(myline) != 14:\n",
    "        break\n",
    "    for t in range(len(myline)):\n",
    "        if t == 0:\n",
    "            myline[t] = int(myline[t])\n",
    "        else:\n",
    "            myline[t] = float(myline[t])\n",
    "    temp = myline.pop(0)\n",
    "    types[temp - 1].append(myline)\n",
    "    \n",
    "# 三类数据样本数目\n",
    "test_len = [len(types[i]) for i in range(3)]   # 59  71  48\n",
    "data_num = sum([len(types[i]) for i in range(3)])  # 178个样本\n"
   ]
  },
  {
   "cell_type": "markdown",
   "metadata": {},
   "source": [
    "### 分层抽样"
   ]
  },
  {
   "cell_type": "code",
   "execution_count": 2,
   "metadata": {},
   "outputs": [
    {
     "name": "stdout",
     "output_type": "stream",
     "text": [
      "第 1 类测试样本数量：  18\n",
      "第 2 类测试样本数量：  22\n",
      "第 3 类测试样本数量：  15\n",
      "123\n",
      "[0.2303370786516854, 0.2752808988764045, 0.1853932584269663]\n"
     ]
    }
   ],
   "source": [
    "index = 0  \n",
    "# 对每类数据进行分层抽样  7：3的分割比\n",
    "for x_i in types:\n",
    "\n",
    "    x_i = np.array(x_i)  #(59, 13) (71, 13) (48, 13)\n",
    "    Len = x_i.shape[0]\n",
    "\n",
    "    # 生成随机序列\n",
    "    # print(x_i.shape)\n",
    "    np.random.seed(7)\n",
    "    row_indices = np.random.permutation(Len)\n",
    "    # 接近于7：3 的分割线\n",
    "    split_num = int(Len * 0.7)\n",
    "    print(\"第\",index+1,\"类测试样本数量： \",Len - split_num)\n",
    "\n",
    "    # 取训练数据\n",
    "    x_i_train = x_i[row_indices[0:split_num],:]\n",
    "    train_data[index] = x_i_train\n",
    "\n",
    "    # 取测试数据\n",
    "    x_i_test = x_i[row_indices[split_num:],:]\n",
    "    test_data[index] = x_i_test\n",
    "\n",
    "    # 索引\n",
    "    index = index + 1\n",
    "all_len = sum([len(train_data[i]) for i in range(3)])\n",
    "print(all_len)\n",
    "# 计算出每类数据占全部数据的比列概率 Pi\n",
    "P = [len(train_data[i])/(data_num) for i in range(3)]\n",
    "print(P)"
   ]
  },
  {
   "cell_type": "markdown",
   "metadata": {},
   "source": [
    "### 朴素贝叶斯分类"
   ]
  },
  {
   "cell_type": "code",
   "execution_count": 3,
   "metadata": {},
   "outputs": [],
   "source": [
    "# 利用朴素贝叶斯公式\n",
    "# 计算数据在某一类别下的概率P\n",
    "def Bayes(data, p, mean, std):\n",
    "    result = p\n",
    "    for i in range(len(data)):\n",
    "        result *=  1 / (math.sqrt(2 * math.pi) * std[i]) * math.exp(-((data[i] - mean[i])**2) / (2 * (std[i]**2)))\n",
    "    return result"
   ]
  },
  {
   "cell_type": "code",
   "execution_count": 4,
   "metadata": {},
   "outputs": [],
   "source": [
    "# 调用朴素贝叶斯公式进行数据分类\n",
    "def bayes_classificate():\n",
    "    # 分别计算训练集上三个类的均值和标准差\n",
    "    for index in range(3):\n",
    "        means[index] = np.mean(train_data[index],axis=0)\n",
    "        stds[index] = np.std(train_data[index],axis=0)\n",
    "    wrong_num = 0  # 预测错误样本数\n",
    "    pre_Y = []  # 预测结果\n",
    "    test_Y = [] # 实际结果\n",
    "    Pred_Max_Probability = []  # 对测试数据预测属于三类的概率\n",
    "    for i in range(3):\n",
    "        for t in test_data[i]:                  #两层循环：从每一类取每一个测试样本\n",
    "            my_type = []\n",
    "            for j in range(3):\n",
    "                # 由于数据集中所有的属性都是连续值，连续值的似然估计可以按照高斯分布来计算：\n",
    "                temp = Bayes(t,P[j],means[j],stds[j])\n",
    "                # print(temp)\n",
    "                my_type.append(temp)                        #这里将所有score保存\n",
    "            # print(my_type)\n",
    "            Pred_Max_Probability.append(my_type)\n",
    "            pre_type = my_type.index(max(my_type))          #取分值最大的为预测类别\n",
    "            pre_Y.append(pre_type)\n",
    "            test_Y.append(i)\n",
    "            # pre_type = np.argmax(my_type)          #取分值最大的为预测类别\n",
    "            if pre_type != i:                               #统计错误数\n",
    "                wrong_num+=1\n",
    "    return wrong_num, pre_Y, test_Y, Pred_Max_Probability"
   ]
  },
  {
   "cell_type": "code",
   "execution_count": 5,
   "metadata": {},
   "outputs": [
    {
     "name": "stdout",
     "output_type": "stream",
     "text": [
      "3\n",
      "[0, 0, 0, 0, 0, 0, 0, 0, 0, 0, 0, 0, 0, 0, 0, 1, 0, 0, 2, 1, 1, 0, 1, 1, 1, 1, 1, 1, 1, 1, 1, 1, 1, 1, 1, 1, 1, 1, 1, 1, 2, 2, 2, 2, 2, 2, 2, 2, 2, 2, 2, 2, 2, 2, 2]\n",
      "[0, 0, 0, 0, 0, 0, 0, 0, 0, 0, 0, 0, 0, 0, 0, 0, 0, 0, 1, 1, 1, 1, 1, 1, 1, 1, 1, 1, 1, 1, 1, 1, 1, 1, 1, 1, 1, 1, 1, 1, 2, 2, 2, 2, 2, 2, 2, 2, 2, 2, 2, 2, 2, 2, 2]\n"
     ]
    }
   ],
   "source": [
    "# 预测分类 返回结果\n",
    "wrong_num, pre_Y, test_Y, Pred_Max_Probability = bayes_classificate()\n",
    "print(wrong_num)    # 预测错误样本数\n",
    "print(pre_Y)        # 预测结果\n",
    "print(test_Y)       # 实际结果\n",
    "# print(Pred_Max_Probability)"
   ]
  },
  {
   "cell_type": "markdown",
   "metadata": {},
   "source": [
    "## 中级要求\n",
    "- 使用测试集评估模型，得到混淆矩阵，精度，召回率，F值"
   ]
  },
  {
   "cell_type": "markdown",
   "metadata": {},
   "source": [
    "### 生成混淆矩阵\n",
    "- 4*4 的整体预测矩阵\n",
    "\n",
    "|      |   label1-预测数目值   |   label2-预测数目值   |   label3-预测数目值   |\n",
    "| ---- | ---- | ---- | ---- |\n",
    "|   label1-实际数目值   |      |      |      |\n",
    "|   label2-实际数目值   |      |      |      |\n",
    "|   label3-实际数目值   |      |      |      |\n",
    "\n",
    "- 3*3 的俩俩混淆矩阵\n",
    "\n",
    "|      |   labelx-预测数目值   |   labely-预测数目值   |\n",
    "| ---- | ---- | ---- |\n",
    "|   labelx-实际数目值   |      |      |\n",
    "|   labely-实际数目值   |      |      |\n"
   ]
  },
  {
   "cell_type": "code",
   "execution_count": 6,
   "metadata": {},
   "outputs": [
    {
     "name": "stdout",
     "output_type": "stream",
     "text": [
      "4*4整体预测矩阵是:\n",
      "[[17, 1, 0], [1, 20, 1], [0, 0, 15]]\n",
      "三个3*3的俩俩混淆矩阵\n",
      "[[17, 1], [1, 20]]\n",
      "[[17, 0], [0, 15]]\n",
      "[[20, 1], [0, 15]]\n"
     ]
    }
   ],
   "source": [
    "def confuse_maxtria_4_4(predict, fact):   # 生成一个4*4的整体预测矩阵\n",
    "    array = [[0, 0, 0], [0, 0, 0], [0, 0, 0]]\n",
    "    for i in range(len(predict)):\n",
    "        array[fact[i]][predict[i]] += 1\n",
    "    return array\n",
    "\n",
    "def confuse_maxtria_3_3(predict, fact):   # 生成一个3*3的混淆矩阵\n",
    "    array = [[0, 0], [0, 0]]\n",
    "    for i in range(len(predict)):\n",
    "        array[fact[i]][predict[i]] += 1\n",
    "    return array\n",
    "\n",
    "def confuse_maxtria_3_3_3(predict, fact):   # 将数据进行拆分，生成三个3*3的混淆矩阵所需的数据集\n",
    "    Len = len(fact)\n",
    "    pred012 = [[],[],[]]\n",
    "    fact012 = [[],[],[]]\n",
    "    pred_01 = []\n",
    "    fact_01 = []\n",
    "    pred_02 = []\n",
    "    fact_02 = []\n",
    "    pred_12 = []\n",
    "    fact_12 = []\n",
    "    for i in range(Len):\n",
    "        if predict[i] == fact[i]:\n",
    "            pred012[predict[i]].append(predict[i])\n",
    "            fact012[predict[i]].append(predict[i])\n",
    "        elif predict[i] == 0:\n",
    "            if fact[i] == 1:\n",
    "                pred_01.append(predict[i])\n",
    "                fact_01.append(fact[i])\n",
    "            else:\n",
    "                pred_02.append(predict[i])\n",
    "                fact_02.append(fact[i])\n",
    "        elif predict[i] == 1:\n",
    "            if fact[i] == 0:\n",
    "                pred_01.append(predict[i])\n",
    "                fact_01.append(fact[i])\n",
    "            else:\n",
    "                pred_12.append(predict[i])\n",
    "                fact_12.append(fact[i])\n",
    "        elif predict[i] == 2:\n",
    "            if fact[i] == 0:\n",
    "                pred_02.append(predict[i])\n",
    "                fact_02.append(fact[i])\n",
    "            else:\n",
    "                pred_12.append(predict[i])\n",
    "                fact_12.append(fact[i])\n",
    "\n",
    "    # 得到每俩类之间的一个混淆矩阵所需数据\n",
    "    pred_01 = pred_01 + pred012[0] + pred012[1]\n",
    "    fact_01 = fact_01 + fact012[0] + fact012[1]\n",
    "    pred_02 = pred_02 + pred012[0] + pred012[2]\n",
    "    fact_02 = fact_02 + fact012[0] + fact012[2]\n",
    "    pred_12 = pred_12 + pred012[1] + pred012[2]\n",
    "    fact_12 = fact_12 + fact012[1] + fact012[2]\n",
    "\n",
    "    # 送入confuse_maxtria_3_3函数生成所需的混淆矩阵\n",
    "    Array = []\n",
    "    Array.append(confuse_maxtria_3_3(pred_01,fact_01))\n",
    "\n",
    "    for i in range(len(pred_02)):\n",
    "        pred_02[i] = 1 if pred_02[i] == 2 else 0\n",
    "        fact_02[i] = 1 if fact_02[i] == 2 else 0\n",
    "    Array.append(confuse_maxtria_3_3(pred_02,fact_02))\n",
    "\n",
    "    for i in range(len(pred_12)):\n",
    "        pred_12[i] -= 1\n",
    "        fact_12[i] -= 1\n",
    "    Array.append(confuse_maxtria_3_3(pred_12,fact_12))\n",
    "\n",
    "    return Array\n",
    "    \n",
    "# 生成混淆矩阵\n",
    "array_4_4 = confuse_maxtria_4_4(pre_Y, test_Y)\n",
    "array_3_3 = confuse_maxtria_3_3_3(pre_Y, test_Y)\n",
    "print(\"4*4整体预测矩阵是:\")\n",
    "print(array_4_4)\n",
    "print(\"三个3*3的俩俩混淆矩阵\")\n",
    "print(array_3_3[0])\n",
    "print(array_3_3[1])\n",
    "print(array_3_3[2])"
   ]
  },
  {
   "cell_type": "markdown",
   "metadata": {},
   "source": [
    "### 输出精度、召回率、F值\n"
   ]
  },
  {
   "cell_type": "code",
   "execution_count": 7,
   "metadata": {},
   "outputs": [
    {
     "name": "stdout",
     "output_type": "stream",
     "text": [
      "对于预测label为 0 1 的精度： 0.9444444444444444\n",
      "对于预测label为 0 1 的召回率： 0.9444444444444444\n",
      "对于预测label为 0 1 的准确率： 0.9487179487179487\n",
      "对于预测label为 0 1 的F值: 0.946576373212942\n",
      "对于预测label为 0 2 的精度： 1.0\n",
      "对于预测label为 0 1 的召回率： 1.0\n",
      "对于预测label为 0 2 的准确率： 1.0\n",
      "对于预测label为 0 2 的F值: 1.0\n",
      "对于预测label为 1 2 的精度： 0.9523809523809523\n",
      "对于预测label为 1 2 的召回率： 1.0\n",
      "对于预测label为 1 2 的准确率： 0.9722222222222222\n",
      "对于预测label为 1 2 的F值: 0.9859154929577464\n"
     ]
    }
   ],
   "source": [
    "# 对于预测label为 0 1 \n",
    "print(\"对于预测label为 0 1 的精度：\",int(array_3_3[0][0][0])/(int(array_3_3[0][0][0]+array_3_3[0][0][1])))\n",
    "R = int(array_3_3[0][0][0])/(int(array_3_3[0][0][0]+array_3_3[0][1][0]))\n",
    "print(\"对于预测label为 0 1 的召回率：\",R)\n",
    "P = int(array_3_3[0][0][0]+array_3_3[0][1][1])/(int(array_3_3[0][0][0]+array_3_3[0][0][1]+array_3_3[0][1][0]+array_3_3[0][1][1]))\n",
    "print(\"对于预测label为 0 1 的准确率：\",P)\n",
    "print(\"对于预测label为 0 1 的F值:\",(2*P*R)/(P+R))\n",
    "\n",
    "# 对于预测label为 0 2 \n",
    "print(\"对于预测label为 0 2 的精度：\",int(array_3_3[1][0][0])/(int(array_3_3[1][0][0]+array_3_3[1][0][1])))\n",
    "R = int(array_3_3[1][0][0])/(int(array_3_3[1][0][0]+array_3_3[1][1][0]))\n",
    "print(\"对于预测label为 0 1 的召回率：\",R)\n",
    "P = int(array_3_3[1][0][0]+array_3_3[1][1][1])/(int(array_3_3[1][0][0]+array_3_3[1][0][1]+array_3_3[1][1][0]+array_3_3[1][1][1]))\n",
    "print(\"对于预测label为 0 2 的准确率：\",P)\n",
    "print(\"对于预测label为 0 2 的F值:\",(2*P*R)/(P+R))\n",
    "\n",
    "# 对于预测label为 0 1 \n",
    "print(\"对于预测label为 1 2 的精度：\",int(array_3_3[2][0][0])/(int(array_3_3[2][0][0]+array_3_3[2][0][1])))\n",
    "R = int(array_3_3[2][0][0])/(int(array_3_3[2][0][0]+array_3_3[2][1][0]))\n",
    "print(\"对于预测label为 1 2 的召回率：\",R)\n",
    "P = int(array_3_3[2][0][0]+array_3_3[2][1][1])/(int(array_3_3[2][0][0]+array_3_3[2][0][1]+array_3_3[2][1][0]+array_3_3[2][1][1]))\n",
    "print(\"对于预测label为 1 2 的准确率：\",P)\n",
    "print(\"对于预测label为 1 2 的F值:\",(2*P*R)/(P+R))"
   ]
  },
  {
   "cell_type": "markdown",
   "metadata": {},
   "source": [
    "## 高级要求\n",
    "- 在中级要求的基础上画出三类数据的ROC曲线，并求出AUC值\n",
    "    1. 根据一系列样本被划分为正类的概率Score值，按照大小排序\n",
    "    2. 从高到低，依次将“Score”值作为阈值threshold，当测试样本属于正样本的概率大于或等于这个threshold时，我们认为它为正样本，否则为负样本。\n",
    "    3. 每次选取一个不同的threshold，得到一组FPR和TPR，以FPR值为横坐标和TPR值为纵坐标，即ROC曲线上的一点。\n",
    "    4. 根据得到的每个坐标点 画图"
   ]
  },
  {
   "cell_type": "code",
   "execution_count": 8,
   "metadata": {},
   "outputs": [],
   "source": [
    "# 计算画出ROC曲线所需的坐标点\n",
    "def ROC(test_Y, Pred_Max_Probability,num):\n",
    "    Score = []\n",
    "    length = len(test_Y)\n",
    "    Pred_Max_Probability = np.array(Pred_Max_Probability)\n",
    "\n",
    "    FPR = [[],[],[]]  # 存有各个FPR的数据\n",
    "    TPR = [[],[],[]]  # 存有各个TPR的数据\n",
    "\n",
    "    for index in range(3):\n",
    "        # 取出对应类别下预测的概率值\n",
    "        Score = Pred_Max_Probability[:,index]\n",
    "        # print(Score)\n",
    "        # 进行排序  从高到低 选择Score即概率作为阈值进行判断\n",
    "        sort_S = np.sort(Score)\n",
    "        # print(sort_S)\n",
    "        for i in range(length-1,-1,-1):\n",
    "            threshold = sort_S[i]\n",
    "            T = 0\n",
    "            F = 0\n",
    "            for i in range(length):\n",
    "                # 当测试样本属于正样本的概率大于或等于这个threshold时\n",
    "                # 认为它为正样本\n",
    "                # 否则为负样本\n",
    "                if(Score[i]>=threshold):\n",
    "                    if(test_Y[i]==index):\n",
    "                        T = T + 1\n",
    "                    else:\n",
    "                        F = F + 1\n",
    "            # 利用得到正样本、负样本计算TPR、FPR的值，作为ROC曲线上的坐标点\n",
    "            FPR[index].append(F/(np.sum(num)-num[index]))\n",
    "            TPR[index].append(T/(num[index]))\n",
    "\n",
    "    return TPR,FPR\n"
   ]
  },
  {
   "cell_type": "code",
   "execution_count": 9,
   "metadata": {},
   "outputs": [],
   "source": [
    "num = []  # 统计测试数据中各类的数量\n",
    "for i in range(3):\n",
    "    num.append(len(test_data[i]))\n",
    "# 生成ROC曲线所需的坐标点\n",
    "TPR,FPR = ROC(test_Y,Pred_Max_Probability,num)\n",
    "# 计算ROC曲线的面积AUC\n",
    "AUC = []\n",
    "for i in range(3):\n",
    "    sum = 0\n",
    "    for index in range(len(FPR[i])-1):\n",
    "        sum += (FPR[i][index+1]-FPR[i][index])*(TPR[i][index])\n",
    "    AUC.append(sum)"
   ]
  },
  {
   "cell_type": "code",
   "execution_count": 10,
   "metadata": {},
   "outputs": [
    {
     "data": {
      "image/png": "[encoded data removed]",
      "text/plain": [
       "<Figure size 432x288 with 1 Axes>"
      ]
     },
     "metadata": {
      "needs_background": "light"
     },
     "output_type": "display_data"
    }
   ],
   "source": [
    "# 画图\n",
    "import matplotlib.pyplot as plt\n",
    "plt.figure()\n",
    "lw = 2    # 对角线\n",
    "plt.plot(FPR[0], TPR[0], color='red',\n",
    "         lw=lw, label='ROC curve (label = %d, area = %0.4f)' % (0, AUC[0]))\n",
    "plt.plot(FPR[1], TPR[1], color='orange',\n",
    "         lw=lw, label='ROC curve (label = %d, area = %0.4f)' % (1, AUC[1]))\n",
    "plt.plot(FPR[2], TPR[2], color='green',\n",
    "         lw=lw, label='ROC curve (label = %d, area = %0.4f)' % (2, AUC[2]))\n",
    "plt.plot([0, 1], [0, 1], color='navy', lw=lw, linestyle='--')\n",
    "plt.xlim([0.0, 1.0])\n",
    "plt.ylim([0.0, 1.05])\n",
    "plt.xlabel('False Positive Rate')\n",
    "plt.ylabel('True Positive Rate')\n",
    "plt.title('Receiver Operating Characteristic')\n",
    "plt.legend(loc=\"lower right\")\n",
    "plt.show()"
   ]
  }
 ],
 "metadata": {
  "kernelspec": {
   "display_name": "Python 3 (ipykernel)",
   "language": "python",
   "name": "python3"
  },
  "language_info": {
   "codemirror_mode": {
    "name": "ipython",
    "version": 3
   },
   "file_extension": ".py",
   "mimetype": "text/x-python",
   "name": "python",
   "nbconvert_exporter": "python",
   "pygments_lexer": "ipython3",
   "version": "3.8.10"
  },
  "vscode": {
   "interpreter": {
    "hash": "4c4ab4cd0a6f3d002d790ea76e007d84b461ed87a32ac9ca9f8e8273c438d123"
   }
  }
 },
 "nbformat": 4,
 "nbformat_minor": 2
}
