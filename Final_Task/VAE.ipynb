{
 "cells": [
  {
   "cell_type": "markdown",
   "source": [
    "## 库函数与训练数据的加载"
   ],
   "metadata": {
    "collapsed": false,
    "pycharm": {
     "name": "#%% md\n"
    }
   }
  },
  {
   "cell_type": "code",
   "execution_count": 19,
   "outputs": [],
   "source": [
    "# 导入实验所需的相关库函数\n",
    "import torch\n",
    "import torch.utils.data as Data\n",
    "import torch.nn as nn\n",
    "import torch.nn.functional as F\n",
    "from torchvision import transforms\n",
    "from torchvision.datasets import MNIST\n",
    "from torchvision.utils import save_image\n",
    "from torchsummary import summary\n",
    "import matplotlib.pyplot as plt\n",
    "import numpy as np"
   ],
   "metadata": {
    "collapsed": false,
    "pycharm": {
     "name": "#%%\n"
    }
   }
  },
  {
   "cell_type": "code",
   "execution_count": 20,
   "outputs": [
    {
     "name": "stdout",
     "output_type": "stream",
     "text": [
      "Dataset MNIST\n",
      "    Number of datapoints: 60000\n",
      "    Root location: MNIST\n",
      "    Split: Train\n",
      "    StandardTransform\n",
      "Transform: ToTensor()\n",
      "True\n"
     ]
    }
   ],
   "source": [
    "# 下载实验所需的MNIST数据集\n",
    "train_dataset = MNIST(\n",
    "    root='MNIST',\n",
    "    train=True,\n",
    "    transform=transforms.ToTensor(),\n",
    "    download=True\n",
    ")\n",
    "\n",
    "# 查看mnist数据\n",
    "print(train_dataset)\n",
    "\n",
    "# 查看是否支持cuda GPU训练\n",
    "print(torch.cuda.is_available())\n",
    "\n",
    "# 数据集切分\n",
    "batch_size = 128\n",
    "dataIter = Data.DataLoader(train_dataset, batch_size=batch_size, shuffle=True)"
   ],
   "metadata": {
    "collapsed": false,
    "pycharm": {
     "name": "#%%\n"
    }
   }
  },
  {
   "cell_type": "markdown",
   "source": [
    "## 代价损失函数：通过俩种不同的方式构建损失函数"
   ],
   "metadata": {
    "collapsed": false,
    "pycharm": {
     "name": "#%% md\n"
    }
   }
  },
  {
   "cell_type": "code",
   "execution_count": 21,
   "outputs": [],
   "source": [
    "# 展平：多维数据展平成低维数据\n",
    "def flatten(x):\n",
    "    N = x.shape[0]  # read in N, C, H, W\n",
    "    return x.view(N, -1)  # torch.Size([128, 784])\n",
    "\n",
    "\n",
    "# L2损失 (MSE Loss) 构建损失函数\n",
    "def vae_loss_mse(x, gen_x, mean, log_var):\n",
    "    # 重构项损失\n",
    "    mse_loss = torch.nn.MSELoss(reduction='sum')\n",
    "    loss1 = mse_loss(gen_x, x)\n",
    "\n",
    "    # 最小化 q(z|x)  和 p(z) 的距离\n",
    "    KL_loss = 0.5 * torch.sum(torch.exp(log_var) + torch.pow(mean, 2) - log_var - 1)\n",
    "\n",
    "    return loss1 + KL_loss\n",
    "\n",
    "\n",
    "# 交叉熵损失 (Cross Entropy Loss) 构建损失函数\n",
    "def vae_loss_cross(x, gen_x, mean, log_var):\n",
    "    # 重构项损失\n",
    "    cross_entropy_loss = F.binary_cross_entropy(reduction='sum')\n",
    "    loss1 = cross_entropy_loss(gen_x, x)\n",
    "\n",
    "    # 最小化 q(z|x)  和 p(z) 的距离\n",
    "    KL_loss = 0.5 * torch.sum(torch.exp(log_var) + torch.pow(mean, 2) - log_var - 1)\n",
    "\n",
    "    return loss1 + KL_loss"
   ],
   "metadata": {
    "collapsed": false,
    "pycharm": {
     "name": "#%%\n"
    }
   }
  },
  {
   "cell_type": "markdown",
   "source": [
    "## 构造网络模型\n",
    "- 采用全连接Dense(Linear)设计网络架构\n",
    "- 采用卷积层Conv+Dense设计网络架构"
   ],
   "metadata": {
    "collapsed": false,
    "pycharm": {
     "name": "#%% md\n"
    }
   }
  },
  {
   "cell_type": "markdown",
   "source": [
    "### 全连接层——VAE网络"
   ],
   "metadata": {
    "collapsed": false,
    "pycharm": {
     "name": "#%% md\n"
    }
   }
  },
  {
   "cell_type": "code",
   "execution_count": 22,
   "outputs": [],
   "source": [
    "class VariationalAutoEncoder_Dense(nn.Module):\n",
    "    def __init__(self,\n",
    "                 image_shape=(1, 28, 28),\n",
    "                 dense_size=(784, 256, 128),\n",
    "                 z_dim=20):\n",
    "        super(VariationalAutoEncoder_Dense, self).__init__()\n",
    "\n",
    "        # 激活函数\n",
    "        self.relu = nn.ReLU()\n",
    "        self.sigmoid = nn.Sigmoid()\n",
    "\n",
    "        # encoder全连接层\n",
    "        self.enDense0 = nn.Linear(dense_size[0], dense_size[1])\n",
    "        self.enDense1 = nn.Linear(dense_size[1], dense_size[2])\n",
    "\n",
    "        # 隐变量层\n",
    "        self.latent_mean = nn.Linear(dense_size[-1], z_dim)\n",
    "        self.latent_log_var = nn.Linear(dense_size[-1], z_dim)\n",
    "\n",
    "        # decoder全连接层\n",
    "        self.deDense0 = nn.Linear(z_dim, dense_size[-1])\n",
    "        self.deDense1 = nn.Linear(dense_size[-1], dense_size[-2])\n",
    "        self.deDense2 = nn.Linear(dense_size[-2], dense_size[-3])\n",
    "\n",
    "        # decoder reshape\n",
    "        self.dec_reshape = transforms.Lambda(\n",
    "            lambda x: torch.reshape(x, (x.shape[0], 1, int(image_shape[1]), int(image_shape[2]))))\n",
    "\n",
    "    # 编码\n",
    "    def encode(self, x):\n",
    "        # 展平\n",
    "        out = flatten(x)\n",
    "        # 全连接层\n",
    "        out = self.relu(self.enDense0(out))\n",
    "        out = self.relu(self.enDense1(out))\n",
    "\n",
    "        # 均值 mean\n",
    "        latent_mean = self.latent_mean(out)\n",
    "        # log方差 log_var\n",
    "        latent_log_var = self.latent_log_var(out)\n",
    "\n",
    "        return latent_mean, latent_log_var\n",
    "\n",
    "    # 重参数化生成隐变量\n",
    "    def re_parameterize(self, mu, log_var):\n",
    "        var = torch.exp(log_var)\n",
    "        epsilon = torch.randn_like(var)\n",
    "        return mu + torch.mul(var, epsilon)\n",
    "\n",
    "    # 解码\n",
    "    def decode(self, z):\n",
    "        # 全连接层\n",
    "        out = self.relu(self.deDense0(z))\n",
    "        out = self.relu(self.deDense1(out))\n",
    "        out = self.sigmoid(self.deDense2(out))\n",
    "\n",
    "        # 重构shape\n",
    "        out = self.dec_reshape(out)\n",
    "\n",
    "        return out\n",
    "\n",
    "    # 整个前向传播过程：编码 --> 解码\n",
    "    def forward(self, x):\n",
    "        latent_mean, latent_log_var = self.encode(x)\n",
    "        sampled_Z = self.re_parameterize(latent_mean, latent_log_var)\n",
    "        Gen_X = self.decode(sampled_Z)\n",
    "        return latent_mean, latent_log_var, Gen_X"
   ],
   "metadata": {
    "collapsed": false,
    "pycharm": {
     "name": "#%%\n"
    }
   }
  },
  {
   "cell_type": "markdown",
   "source": [
    "### 卷积层——VAE网络"
   ],
   "metadata": {
    "collapsed": false,
    "pycharm": {
     "name": "#%% md\n"
    }
   }
  },
  {
   "cell_type": "code",
   "execution_count": 23,
   "outputs": [],
   "source": [
    "class VariationalAutoEncoder_Conv(nn.Module):\n",
    "    def __init__(self,\n",
    "                 image_shape=(1, 28, 28),\n",
    "                 conv_size=(1, 6, 16, 4),\n",
    "                 dense_size=(784, 128),\n",
    "                 kernel=3,\n",
    "                 z_dim=20):\n",
    "        super(VariationalAutoEncoder_Conv, self).__init__()\n",
    "\n",
    "        # 激活函数\n",
    "        self.relu = nn.ReLU()\n",
    "        self.sigmoid = nn.Sigmoid()\n",
    "\n",
    "        # encoder卷积层\n",
    "        # 输入 (128,1,28,28) 输出 (128,6,28,28)\n",
    "        self.enConv0 = nn.Conv2d(conv_size[0], conv_size[1], kernel, padding=1, padding_mode='replicate')\n",
    "        # 输入 (128,6,28,28) 输出 (128,16,14,14)\n",
    "        self.enConv1 = nn.Conv2d(conv_size[1], conv_size[2], kernel, stride=2, padding=1, padding_mode='replicate')\n",
    "        # 输入 (128,16,14,14) 输出 (128,4,14,14)\n",
    "        self.enConv2 = nn.Conv2d(conv_size[2], conv_size[3], kernel, padding=1, padding_mode='replicate')\n",
    "\n",
    "        # encoder全连接层\n",
    "        self.enDense0 = nn.Linear(dense_size[0], dense_size[1])\n",
    "\n",
    "        # 隐变量层\n",
    "        self.latent_mean = nn.Linear(dense_size[-1], z_dim)\n",
    "        self.latent_log_var = nn.Linear(dense_size[-1], z_dim)\n",
    "\n",
    "        # decoder全连接层\n",
    "        self.deDense0 = nn.Linear(z_dim, dense_size[-1])\n",
    "        self.deDense1 = nn.Linear(dense_size[-1], dense_size[-2])\n",
    "        self.deDense2 = nn.Linear(dense_size[-2], int(np.prod(image_shape)))\n",
    "\n",
    "        # 需要对 全连接层输出的一维结果数据 进行 reshape\n",
    "        self.dec_reshape = transforms.Lambda(\n",
    "            lambda x: torch.reshape(x, (x.shape[0], 1, int(image_shape[1]), int(image_shape[2]))))\n",
    "\n",
    "    # 编码\n",
    "    def encode(self, x):\n",
    "        # 卷积层\n",
    "        out = self.relu(self.enConv0(x))\n",
    "        out = self.relu(self.enConv1(out))\n",
    "        out = self.relu(self.enConv2(out))\n",
    "\n",
    "        # 展平\n",
    "        out = flatten(out)\n",
    "\n",
    "        # 全连接层\n",
    "        out = self.relu(self.enDense0(out))\n",
    "\n",
    "        # 均值 mean\n",
    "        latent_mean = self.latent_mean(out)\n",
    "        # log方差 log_var\n",
    "        latent_log_var = self.latent_log_var(out)\n",
    "\n",
    "        return latent_mean, latent_log_var\n",
    "\n",
    "    # 重参数化生成隐变量\n",
    "    def re_parameterize(self, mu, log_var):\n",
    "        var = torch.exp(log_var)\n",
    "        epsilon = torch.randn_like(var)\n",
    "        return mu + torch.mul(var, epsilon)\n",
    "\n",
    "    # 解码\n",
    "    def decode(self, z):\n",
    "        # 全连接层\n",
    "        out = self.relu(self.deDense0(z))\n",
    "        out = self.relu(self.deDense1(out))\n",
    "        out = self.sigmoid(self.deDense2(out))\n",
    "\n",
    "        # 重构shape\n",
    "        out = self.dec_reshape(out)\n",
    "\n",
    "        return out\n",
    "\n",
    "    # 整个前向传播过程：编码 --> 解码\n",
    "    def forward(self, x):\n",
    "        latent_mean, latent_log_var = self.encode(x)\n",
    "        sampled_Z = self.re_parameterize(latent_mean, latent_log_var)\n",
    "        Gen_X = self.decode(sampled_Z)\n",
    "        return latent_mean, latent_log_var, Gen_X"
   ],
   "metadata": {
    "collapsed": false,
    "pycharm": {
     "name": "#%%\n"
    }
   }
  },
  {
   "cell_type": "markdown",
   "source": [
    "## 查看网络结构"
   ],
   "metadata": {
    "collapsed": false,
    "pycharm": {
     "name": "#%% md\n"
    }
   }
  },
  {
   "cell_type": "code",
   "execution_count": 24,
   "outputs": [
    {
     "name": "stdout",
     "output_type": "stream",
     "text": [
      "==========================VAE(Dense)网络结构==========================\n",
      "----------------------------------------------------------------\n",
      "        Layer (type)               Output Shape         Param #\n",
      "================================================================\n",
      "            Linear-1                  [-1, 256]         200,960\n",
      "              ReLU-2                  [-1, 256]               0\n",
      "            Linear-3                  [-1, 128]          32,896\n",
      "              ReLU-4                  [-1, 128]               0\n",
      "            Linear-5                   [-1, 20]           2,580\n",
      "            Linear-6                   [-1, 20]           2,580\n",
      "            Linear-7                  [-1, 128]           2,688\n",
      "              ReLU-8                  [-1, 128]               0\n",
      "            Linear-9                  [-1, 256]          33,024\n",
      "             ReLU-10                  [-1, 256]               0\n",
      "           Linear-11                  [-1, 784]         201,488\n",
      "          Sigmoid-12                  [-1, 784]               0\n",
      "================================================================\n",
      "Total params: 476,216\n",
      "Trainable params: 476,216\n",
      "Non-trainable params: 0\n",
      "----------------------------------------------------------------\n",
      "Input size (MB): 0.00\n",
      "Forward/backward pass size (MB): 0.02\n",
      "Params size (MB): 1.82\n",
      "Estimated Total Size (MB): 1.84\n",
      "----------------------------------------------------------------\n",
      "==========================VAE(Conv)网络结构==========================\n",
      "----------------------------------------------------------------\n",
      "        Layer (type)               Output Shape         Param #\n",
      "================================================================\n",
      "            Conv2d-1            [-1, 6, 28, 28]              60\n",
      "              ReLU-2            [-1, 6, 28, 28]               0\n",
      "            Conv2d-3           [-1, 16, 14, 14]             880\n",
      "              ReLU-4           [-1, 16, 14, 14]               0\n",
      "            Conv2d-5            [-1, 4, 14, 14]             580\n",
      "              ReLU-6            [-1, 4, 14, 14]               0\n",
      "            Linear-7                  [-1, 128]         100,480\n",
      "              ReLU-8                  [-1, 128]               0\n",
      "            Linear-9                   [-1, 20]           2,580\n",
      "           Linear-10                   [-1, 20]           2,580\n",
      "           Linear-11                  [-1, 128]           2,688\n",
      "             ReLU-12                  [-1, 128]               0\n",
      "           Linear-13                  [-1, 784]         101,136\n",
      "             ReLU-14                  [-1, 784]               0\n",
      "           Linear-15                  [-1, 784]         615,440\n",
      "          Sigmoid-16                  [-1, 784]               0\n",
      "================================================================\n",
      "Total params: 826,424\n",
      "Trainable params: 826,424\n",
      "Non-trainable params: 0\n",
      "----------------------------------------------------------------\n",
      "Input size (MB): 0.00\n",
      "Forward/backward pass size (MB): 0.16\n",
      "Params size (MB): 3.15\n",
      "Estimated Total Size (MB): 3.32\n",
      "----------------------------------------------------------------\n"
     ]
    }
   ],
   "source": [
    "# 网络训练设备：建议使用cuda\n",
    "device = torch.device('cuda' if torch.cuda.is_available() else 'cpu')\n",
    "\n",
    "# 利用summary函数查看网络的层次结构\n",
    "print(\"==========================VAE(Dense)网络结构==========================\")\n",
    "model_Dense = VariationalAutoEncoder_Dense()\n",
    "model_Dense.to(device)\n",
    "summary(model_Dense, input_size=(1, 28, 28))\n",
    "print(\"==========================VAE(Conv)网络结构==========================\")\n",
    "model_Conv = VariationalAutoEncoder_Conv()\n",
    "model_Conv.to(device)\n",
    "summary(model_Conv, input_size=(1, 28, 28))"
   ],
   "metadata": {
    "collapsed": false,
    "pycharm": {
     "name": "#%%\n"
    }
   }
  },
  {
   "cell_type": "markdown",
   "source": [
    "## 设定模型参数"
   ],
   "metadata": {
    "collapsed": false,
    "pycharm": {
     "name": "#%% md\n"
    }
   }
  },
  {
   "cell_type": "code",
   "execution_count": 25,
   "outputs": [],
   "source": [
    "# 训练模型参数\n",
    "learning_rate = 1e-3  # 学习率\n",
    "epoches = 10  # 迭代次数\n",
    "\n",
    "# 实例化模型 二选一 即可\n",
    "model = model_Conv\n",
    "# model = model_Dense\n",
    "\n",
    "# 创建优化器\n",
    "optimizer = torch.optim.Adam(model.parameters(), lr=learning_rate)"
   ],
   "metadata": {
    "collapsed": false,
    "pycharm": {
     "name": "#%%\n"
    }
   }
  },
  {
   "cell_type": "markdown",
   "source": [
    "## 模型训练"
   ],
   "metadata": {
    "collapsed": false,
    "pycharm": {
     "name": "#%% md\n"
    }
   }
  },
  {
   "cell_type": "code",
   "execution_count": 26,
   "outputs": [
    {
     "name": "stdout",
     "output_type": "stream",
     "text": [
      "epoch : 1 | batch : 100 | batch average loss: 56.1246223449707\n",
      "epoch : 1 | batch : 200 | batch average loss: 50.71028137207031\n",
      "epoch : 1 | batch : 300 | batch average loss: 47.44122314453125\n",
      "epoch : 1 | batch : 400 | batch average loss: 43.33039093017578\n",
      "epoch[1/5] | loss:50.30060262044271\n",
      "epoch : 2 | batch : 100 | batch average loss: 35.79652786254883\n",
      "epoch : 2 | batch : 200 | batch average loss: 33.91908645629883\n",
      "epoch : 2 | batch : 300 | batch average loss: 30.508880615234375\n",
      "epoch : 2 | batch : 400 | batch average loss: 31.092205047607422\n",
      "epoch[2/5] | loss:32.60229806315104\n",
      "epoch : 3 | batch : 100 | batch average loss: 29.826305389404297\n",
      "epoch : 3 | batch : 200 | batch average loss: 30.443077087402344\n",
      "epoch : 3 | batch : 300 | batch average loss: 29.97263526916504\n",
      "epoch : 3 | batch : 400 | batch average loss: 30.899505615234375\n",
      "epoch[3/5] | loss:29.209166223144532\n",
      "epoch : 4 | batch : 100 | batch average loss: 28.579774856567383\n",
      "epoch : 4 | batch : 200 | batch average loss: 27.795963287353516\n",
      "epoch : 4 | batch : 300 | batch average loss: 27.935087203979492\n",
      "epoch : 4 | batch : 400 | batch average loss: 25.45651626586914\n",
      "epoch[4/5] | loss:27.72223535563151\n",
      "epoch : 5 | batch : 100 | batch average loss: 26.24242401123047\n",
      "epoch : 5 | batch : 200 | batch average loss: 27.37400245666504\n",
      "epoch : 5 | batch : 300 | batch average loss: 24.33155632019043\n",
      "epoch : 5 | batch : 400 | batch average loss: 25.370248794555664\n",
      "epoch[5/5] | loss:26.370420642089844\n"
     ]
    }
   ],
   "source": [
    "train_loss = []  # 保存每个epoch的训练误差\n",
    "number = len(dataIter.dataset)\n",
    "result_dir = './VAEResult' # 保存生成图片的目录\n",
    "\n",
    "for epoch in range(epoches):\n",
    "    batch_loss = []\n",
    "    for i, (x, y) in enumerate(dataIter):\n",
    "        x = x.to(device)  # gpu训练\n",
    "\n",
    "        # 前向传播\n",
    "        mean, log_var, gen_x = model(x)\n",
    "\n",
    "        # 计算损失函数 二选一 即可\n",
    "        loss = vae_loss_mse(x, gen_x, mean, log_var)\n",
    "        # loss = vae_loss_cross(x, gen_x, mean, log_var)\n",
    "        batch_loss.append(loss.item())\n",
    "\n",
    "        # 反向传播和优化\n",
    "        optimizer.zero_grad()  # 每一次循环之前，将梯度清零\n",
    "        loss.backward()  # 反向传播\n",
    "        optimizer.step()  # 梯度下降\n",
    "\n",
    "        # 输出batch信息\n",
    "        if i % 100 == 0 and i > 0:\n",
    "            print(\"epoch : {0} | batch : {1} | batch average loss: {2}\"\n",
    "                  .format(epoch + 1, i, loss.item() / x.shape[0]))\n",
    "\n",
    "        # 保存 各个epoch下 VAE的生成效果图\n",
    "        if i == 0:\n",
    "            x_concatD = torch.cat([x.view(-1, 1, 28, 28), gen_x.view(-1, 1, 28, 28)], dim=3)\n",
    "            save_image(x_concatD, './%s/reconstructed-%d.png' % (result_dir, epoch + 1))\n",
    "\n",
    "    # 输出epoch信息\n",
    "    train_loss.append(np.sum(batch_loss) / number)\n",
    "    print(\"epoch[{}/{}] | loss:{}\"\n",
    "          .format(epoch + 1, epoches, train_loss[epoch]))"
   ],
   "metadata": {
    "collapsed": false,
    "pycharm": {
     "name": "#%%\n"
    }
   }
  },
  {
   "cell_type": "markdown",
   "source": [
    "## evaluation 测试生成效果"
   ],
   "metadata": {
    "collapsed": false,
    "pycharm": {
     "name": "#%% md\n"
    }
   }
  },
  {
   "cell_type": "code",
   "execution_count": 27,
   "outputs": [
    {
     "data": {
      "text/plain": "<Figure size 432x288 with 36 Axes>",
      "image/png": "[encoded data removed]"
     },
     "metadata": {
      "needs_background": "light"
     },
     "output_type": "display_data"
    }
   ],
   "source": [
    "# 从正态分布随机采样z\n",
    "z = torch.randn((batch_size, 20)).to(device)\n",
    "logits = model.decode(z)  # 仅通过解码器生成图片\n",
    "x_hat = torch.sigmoid(logits)  # 转换为像素范围\n",
    "x_hat = x_hat.view(128, 28, 28).detach().cpu().numpy() * 255.\n",
    "# 展示图片\n",
    "_, axes = plt.subplots(6, 6)\n",
    "for i in range(6):\n",
    "    for j in range(6):\n",
    "        axes[i][j].axis('off')\n",
    "        axes[i][j].imshow(x_hat[i * 3 + j], cmap='gray')\n",
    "plt.show()"
   ],
   "metadata": {
    "collapsed": false,
    "pycharm": {
     "name": "#%%\n"
    }
   }
  }
 ],
 "metadata": {
  "kernelspec": {
   "display_name": "Python 3",
   "language": "python",
   "name": "python3"
  },
  "language_info": {
   "codemirror_mode": {
    "name": "ipython",
    "version": 2
   },
   "file_extension": ".py",
   "mimetype": "text/x-python",
   "name": "python",
   "nbconvert_exporter": "python",
   "pygments_lexer": "ipython2",
   "version": "2.7.6"
  }
 },
 "nbformat": 4,
 "nbformat_minor": 0
}