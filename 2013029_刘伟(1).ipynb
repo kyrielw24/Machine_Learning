{
 "cells": [
  {
   "cell_type": "markdown",
   "id": "8ff75680",
   "metadata": {},
   "source": [
    "# 机器学习实验一：KNN实现对semeion数据集的手写数字识别\n",
    "- 姓名：刘伟\n",
    "- 学号：2013029\n",
    "- 专业：物联网工程"
   ]
  },
  {
   "cell_type": "markdown",
   "id": "4b341567",
   "metadata": {},
   "source": [
    "### 实验要求\n",
    "题目：基于KNN 的手写数字识别\n",
    "实验条件：给定semeion手写数字数据集，给定kNN分类算法\n",
    "实验要求：\n",
    "1. 基本要求：编程实现kNN算法；给出在不同k值（1，3，5）情况下，kNN算法对手写数字的识别精度（要求采用留一法）\n",
    "2. 中级要求：与weka机器学习包中的kNN分类结果进行对比\n",
    "3. 提高要求：将实验过程结果等图示展出"
   ]
  },
  {
   "cell_type": "markdown",
   "id": "68eab8c1",
   "metadata": {},
   "source": [
    "### 导入需要的包"
   ]
  },
  {
   "cell_type": "code",
   "execution_count": 1,
   "id": "cd5087a8",
   "metadata": {},
   "outputs": [],
   "source": [
    "# 导入实验所需要的包\n",
    "import numpy as np\n",
    "import operator\n",
    "from collections import Counter\n",
    "from sklearn.model_selection import train_test_split,cross_val_score\n",
    "from sklearn.model_selection import LeaveOneOut\n",
    "from sklearn.neighbors import KNeighborsClassifier\n",
    "from tqdm import tqdm\n",
    "import matplotlib.pyplot as plt\n",
    "import time"
   ]
  },
  {
   "cell_type": "markdown",
   "id": "3d076219",
   "metadata": {},
   "source": [
    "### 导入数据集"
   ]
  },
  {
   "cell_type": "code",
   "execution_count": 2,
   "id": "4fb0c3d6",
   "metadata": {},
   "outputs": [],
   "source": [
    "# 导入semesion数据集\n",
    "def Img2Mat(fileName):\n",
    "    f = open(fileName)\n",
    "    ss = f.readlines()\n",
    "    l = len(ss)\n",
    "    f.close()\n",
    "    returnMat = np.zeros((l,256))\n",
    "    returnClassVector = np.zeros((l,1))\n",
    "    for i in range(l):\n",
    "        s1 = ss[i].split()\n",
    "        for j in range(256):\n",
    "            returnMat[i][j] = np.float(s1[j])\n",
    "        clCount = 0\n",
    "        for j in range(256,266):\n",
    "            if s1[j] != '1':\n",
    "                clCount += 1\n",
    "            else:\n",
    "                break\n",
    "        returnClassVector[i] = clCount\n",
    "    return returnMat,returnClassVector"
   ]
  },
  {
   "cell_type": "code",
   "execution_count": 3,
   "id": "46d9459d",
   "metadata": {
    "scrolled": true
   },
   "outputs": [
    {
     "name": "stderr",
     "output_type": "stream",
     "text": [
      "C:\\Users\\Kyrie\\AppData\\Local\\Temp\\ipykernel_22616\\1427504029.py:12: DeprecationWarning: `np.float` is a deprecated alias for the builtin `float`. To silence this warning, use `float` by itself. Doing this will not modify any behavior and is safe. If you specifically wanted the numpy scalar type, use `np.float64` here.\n",
      "Deprecated in NumPy 1.20; for more details and guidance: https://numpy.org/devdocs/release/1.20.0-notes.html#deprecations\n",
      "  returnMat[i][j] = np.float(s1[j])\n"
     ]
    },
    {
     "data": {
      "text/plain": [
       "((1593, 256), (1593, 1))"
      ]
     },
     "execution_count": 3,
     "metadata": {},
     "output_type": "execute_result"
    }
   ],
   "source": [
    "X,Y = Img2Mat('D:\\\\NKU\\\\Semester_3\\\\机器学习\\\\semeion.data')\n",
    "np.shape(X), np.shape(Y)"
   ]
  },
  {
   "cell_type": "markdown",
   "id": "afb21b65",
   "metadata": {},
   "source": [
    "### 基本要求\n",
    "编程实现KNN算法；给出不同k值（1，3，5）情况下，kNN算法对手写数字的识别精度"
   ]
  },
  {
   "cell_type": "markdown",
   "id": "9756381a",
   "metadata": {},
   "source": [
    "### 要求采用留一法"
   ]
  },
  {
   "cell_type": "code",
   "execution_count": 4,
   "id": "10d96153",
   "metadata": {},
   "outputs": [],
   "source": [
    "# 手动实现KNN算法，要求采取留一法\n",
    "\n",
    "def MyKnnClassifier(data_X, data_y, neighbors):\n",
    "    \n",
    "    # 留一法 则所有数据都会被测试\n",
    "    # 生成训练数据集和测试数据集\n",
    "    \n",
    "    loo = LeaveOneOut()  # 利用LeaveOneOut()函数实现每次留一法的数据分割，每次仅挑出一个作为测试数据集\n",
    "    all_len = data_X.shape[0] # 全部总共的数据集大小\n",
    "    testRes = []  # 存放测试结果\n",
    "    acc = 0   # 计算准确率\n",
    "    \n",
    "    # 留一法对所有数据进行测试\n",
    "    # 每次测试时，其余所有数据作为训练数据集\n",
    "    # 针对测试集中每一个样本进行预测\n",
    "    for train, test in loo.split(X): # loo.split(X) 每次仅会分割出 一个 作为test数据集\n",
    "        \n",
    "        X_train, X_test, Y_train, Y_test = X[train],X[test],Y[train],Y[test]\n",
    "        trainShape = X_train.shape[0]   # 获得训练集的大小\n",
    "        testShape = X_test.shape[0]     # 获得测试集的大小 恒为 1\n",
    "        \n",
    "        # 差异矩阵 = 该样本与训练集中所有样本之差构成的矩阵\n",
    "        testDiffMat = np.tile(X_test[0],(trainShape , 1)) - X_train\n",
    "        sqTestDiffMat = testDiffMat ** 2    # 将差异矩阵平方\n",
    "        \n",
    "        # 方差距离为方差矩阵的整行求和，是一个一位列向量\n",
    "        sqTestDiffDis = sqTestDiffMat.sum(axis=1)\n",
    "        testDiffDis = sqTestDiffDis ** 0.5  # 开方生成标准差距离\n",
    "        sortIndex = np.argsort(testDiffDis)   # 将标准差距离按照下标排序\n",
    "        \n",
    "        labelCount = []  # 存放预测中排名靠前的 预测neighbors索引\n",
    "        \n",
    "        for j in range(neighbors):  # 考察k近邻属于哪些类\n",
    "            labelCount.append(Y_train[sortIndex[j]][0])\n",
    "            \n",
    "        # 把k近邻中最多的那个标签作为分类结果    \n",
    "        classifyRes = Counter(labelCount)    \n",
    "        classifyRes = classifyRes.most_common(2)[0][0]\n",
    "        testRes.append(classifyRes)\n",
    "        \n",
    "        # 分类正确则将accRate+1\n",
    "        if classifyRes == Y_test[0]:  \n",
    "            acc += 1\n",
    "    \n",
    "    # 计算总的准确率\n",
    "    accRate = acc / all_len\n",
    "    \n",
    "    # 输出打印结果     \n",
    "    print('k={0}时，测试个数为{1}  正确个数为：{2}  准确率为：{3}'.format(neighbors,data_X.shape[0],acc,accRate))\n",
    "    \n",
    "    return accRate"
   ]
  },
  {
   "cell_type": "code",
   "execution_count": 5,
   "id": "3b03c680",
   "metadata": {},
   "outputs": [
    {
     "name": "stdout",
     "output_type": "stream",
     "text": [
      "k=1时，测试个数为1593  正确个数为：1459  准确率为：0.9158819836785939\n",
      "k=3时，测试个数为1593  正确个数为：1464  准确率为：0.9190207156308852\n",
      "k=5时，测试个数为1593  正确个数为：1458  准确率为：0.9152542372881356\n"
     ]
    },
    {
     "data": {
      "text/plain": [
       "0.9152542372881356"
      ]
     },
     "execution_count": 5,
     "metadata": {},
     "output_type": "execute_result"
    }
   ],
   "source": [
    "MyKnnClassifier(X, Y, 1)\n",
    "MyKnnClassifier(X, Y, 3)\n",
    "MyKnnClassifier(X, Y, 5)"
   ]
  },
  {
   "cell_type": "markdown",
   "id": "10afc0f6",
   "metadata": {},
   "source": [
    "### 中级要求\n",
    "与weka机器学习包中的kNN分类结果进行对比"
   ]
  },
  {
   "cell_type": "markdown",
   "id": "757e974d",
   "metadata": {},
   "source": [
    " **实验结果源于 weka 应用的测试结果：**  \n",
    " **利用 weka 测试了 K = {1, 3, 5, 7} 四种情况下的准确率**   \n",
    "> |                                  |      K = 1     |      K = 3      |       K = 5      |      K = 7      |\n",
    "|:--------------------------------:|:--------------:|:---------------:|:----------------:|:---------------:|\n",
    "|  Correctly Classified Instances  | 1460   91.651% | 1437   90.2072% | 1445   90.7094 % | 1453   91.2116% |\n",
    "| Incorrectly Classified Instances |  133   8.349%  |  156   9.7928%  |   148   9.2906%  |  140   8.7884%  |\n",
    "|        Mean absolute error       |     0.0173     |      0.0234     |      0.0278      |      0.0315     |\n",
    "|      Root mean squared error     |     0.1255     |      0.1151     |      0.1157      |      0.1168     |\n",
    "|     Total Number of Instances    |      1593      |       1593      |       1593       |       1593      |"
   ]
  },
  {
   "cell_type": "markdown",
   "id": "88388766",
   "metadata": {},
   "source": [
    "### 高级要求\n",
    "将实验过程结果等图示展出"
   ]
  },
  {
   "cell_type": "code",
   "execution_count": 6,
   "id": "073bdc49",
   "metadata": {},
   "outputs": [
    {
     "name": "stdout",
     "output_type": "stream",
     "text": [
      "k=1时，测试个数为1593  正确个数为：1459  准确率为：0.9158819836785939\n",
      "k=2时，测试个数为1593  正确个数为：1459  准确率为：0.9158819836785939\n",
      "k=3时，测试个数为1593  正确个数为：1464  准确率为：0.9190207156308852\n",
      "k=4时，测试个数为1593  正确个数为：1465  准确率为：0.9196484620213434\n",
      "k=5时，测试个数为1593  正确个数为：1458  准确率为：0.9152542372881356\n",
      "k=6时，测试个数为1593  正确个数为：1464  准确率为：0.9190207156308852\n",
      "k=7时，测试个数为1593  正确个数为：1469  准确率为：0.9221594475831764\n",
      "k=8时，测试个数为1593  正确个数为：1472  准确率为：0.9240426867545511\n",
      "k=9时，测试个数为1593  正确个数为：1471  准确率为：0.9234149403640929\n",
      "k=10时，测试个数为1593  正确个数为：1465  准确率为：0.9196484620213434\n",
      "k=11时，测试个数为1593  正确个数为：1456  准确率为：0.9139987445072191\n",
      "k=12时，测试个数为1593  正确个数为：1460  准确率为：0.9165097300690521\n",
      "k=13时，测试个数为1593  正确个数为：1461  准确率为：0.9171374764595104\n",
      "k=14时，测试个数为1593  正确个数为：1453  准确率为：0.9121155053358443\n",
      "k=15时，测试个数为1593  正确个数为：1446  准确率为：0.9077212806026366\n",
      "k=16时，测试个数为1593  正确个数为：1446  准确率为：0.9077212806026366\n",
      "k=17时，测试个数为1593  正确个数为：1442  准确率为：0.9052102950408035\n",
      "k=18时，测试个数为1593  正确个数为：1438  准确率为：0.9026993094789705\n",
      "k=19时，测试个数为1593  正确个数为：1436  准确率为：0.901443816698054\n",
      "k=20时，测试个数为1593  正确个数为：1435  准确率为：0.9008160703075957\n",
      "k=21时，测试个数为1593  正确个数为：1436  准确率为：0.901443816698054\n",
      "k=22时，测试个数为1593  正确个数为：1440  准确率为：0.903954802259887\n",
      "k=23时，测试个数为1593  正确个数为：1435  准确率为：0.9008160703075957\n",
      "k=24时，测试个数为1593  正确个数为：1427  准确率为：0.8957940991839297\n",
      "k=25时，测试个数为1593  正确个数为：1426  准确率为：0.8951663527934715\n",
      "k=26时，测试个数为1593  正确个数为：1424  准确率为：0.8939108600125549\n",
      "k=27时，测试个数为1593  正确个数为：1424  准确率为：0.8939108600125549\n",
      "k=28时，测试个数为1593  正确个数为：1417  准确率为：0.8895166352793471\n",
      "k=29时，测试个数为1593  正确个数为：1423  准确率为：0.8932831136220967\n"
     ]
    }
   ],
   "source": [
    "scores = []  #  记录所有K对应下的准确度，便于画图展示\n",
    "\n",
    "for k in range(1,30):\n",
    "    score = MyKnnClassifier(X, Y, k)\n",
    "    scores.append(score)"
   ]
  },
  {
   "cell_type": "code",
   "execution_count": 7,
   "id": "9c8dafa3",
   "metadata": {},
   "outputs": [
    {
     "data": {
      "image/png": "[encoded data removed]",
      "text/plain": [
       "<Figure size 432x288 with 1 Axes>"
      ]
     },
     "metadata": {
      "needs_background": "light"
     },
     "output_type": "display_data"
    }
   ],
   "source": [
    "plt.xlabel('K Value:',fontsize=20)\n",
    "plt.ylabel('Accuracy',fontsize=20)\n",
    "\n",
    "# 设置 X轴 间隔\n",
    "x_major_locator = plt.MultipleLocator(1)\n",
    "ax = plt.gca()\n",
    "ax.xaxis.set_major_locator(x_major_locator)\n",
    "plt.xlim(0, 30)\n",
    "plt.ylim(0.80, 1)\n",
    "\n",
    "# 留一法 KNN K取不同值的分类结果\n",
    "plt.plot(range(1,30),scores,'r')\n",
    "plt.show()"
   ]
  }
 ],
 "metadata": {
  "kernelspec": {
   "display_name": "Python 3 (ipykernel)",
   "language": "python",
   "name": "python3"
  },
  "language_info": {
   "codemirror_mode": {
    "name": "ipython",
    "version": 3
   },
   "file_extension": ".py",
   "mimetype": "text/x-python",
   "name": "python",
   "nbconvert_exporter": "python",
   "pygments_lexer": "ipython3",
   "version": "3.8.10"
  }
 },
 "nbformat": 4,
 "nbformat_minor": 5
}
